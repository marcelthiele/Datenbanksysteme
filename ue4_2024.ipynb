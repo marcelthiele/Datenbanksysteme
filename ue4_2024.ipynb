{
 "cells": [
  {
   "cell_type": "markdown",
   "metadata": {},
   "source": [
    "Lehrstuhl Datenbanken und Informationssysteme - DBIS <span style=\"float:right\"> SoSe 2024\n",
    "</span> <br>\n",
    "Kate Revoredo, Steven Purtzel, Maike Basmer <span style=\"float:right\"> Aufgabenblatt: 4 </span>"
   ]
  },
  {
   "cell_type": "markdown",
   "metadata": {},
   "source": [
    "### <p style=\"text-align: center\">Übung - Einführung in Datenbanksysteme (DBS I)<br>Sommersemester 2024</p>"
   ]
  },
  {
   "cell_type": "markdown",
   "metadata": {},
   "source": [
    "# <p style=\"text-align:center\">Aufgabenblatt 4:<br> Structured Query Language (SQL) und Domänenkalkül</p>\n",
    "### <p style=\"text-align:center\">Abgabetermin: 19.06.2024</p>"
   ]
  },
  {
   "cell_type": "markdown",
   "metadata": {},
   "source": [
    "**Für die Bewertung der Aufgaben ist es erforderlich, dass Sie sich im Moodle-System für die Veranstaltung eingetragen haben und einer Gruppe zugeordnet sind. Zur Erinnerung: Sie müssen die Übungsaufgaben entweder für die Medium oder Large Kursvariante absolvieren. Unter folgendem Link finden Sie den [Entscheidungsbaum](https://moodle.hu-berlin.de/pluginfile.php/6078038/mod_forum/attachment/1722236/DBS_decision_tree.pdf}{Entscheidungsbaum), der Ihnen bei der Ermittlung Ihrer vorgesehenen Kursvariante helfen soll.\n",
    "Die Teilaufgaben, die mit einem (\\*) versehen sind, müssen von Studierenden aus den *Medium* Gruppen NICHT bearbeitet werden. Geben Sie Ihre Lösung zu den Aufgaben 1, 2 und 3 als Jupyter Notebook mittels Moodle ab. Die Abgaben benennen Sie bitte jeweils wie folgt: \"A1.2-Musterfrau-Beispiel-Sonne.pdf\" für Aufgabenblatt 1 Aufgabe 2 von Lisa Musterfrau, Mark Beispiel und Sonja Sonne.<br><br>\n",
    "Die maximale Punktzahl beträgt für Medium: 34, Large: 60 Punkte.** \n",
    "<br> <br>\n",
    "\n",
    "### Hinweise \n",
    "In diesem Aufgabenblatt geht es um Anfragen in SQL, das Erstellen von Tabellen, die bestimmten Integritätsbedingungen genügen, und Anfragen des Domänenkalküls. <br>\n",
    "Die SQL-Anfragen werden an die Datenbank \"Terra\" gerichtet. <br>\n",
    "Jede Teilaufgabe der Aufgaben 1 und 2 soll durch eine einzelne Anfrage gelöst werden. Die Teilaufgaben, die mit einem (\\*) versehen sind, müssen von den Medium Studierenden NICHT bearbeitet werden. <br>\n",
    "**Hinweis:** Die Anfragen werden an die Übungsdatenbank \"Terra\" gerichtet, die auf der Welt von 1988 basiert. Diese Übungsdatenbank wurde uns freundlicherweise vom Institut für Programmstrukturen und Datenorganisation der Universität Karlsruhe für Ausbildungszwecke überlassen. <br><br>\n",
    "<span style=\"font-size:0.8em;\">\n",
    "\\[*This exercise sheet deals with queries in SQL, the creation of tables that meet certain integrity conditions and queries of the domain calculus. The SQL queries are directed to the “Terra” database. Each subtask of tasks 1 and 2 is to be solved by a single query. The subtasks marked with an (\\*) do NOT have to be solved by the Medium students. <br>\n",
    "Note: The queries are directed to the exercise database “Terra”, which is based on the world of 1988. This exercise database was kindly provided to us by the Institute for Program Structures and Data Organization at the University of Karlsruhe for educational purposes.*\\]</span>\n",
    "<br><br><br>\n",
    "**Benutzung der Datenbank:**<br>\n",
    "1. Führen Sie den Block 1 -Initialisierung- aus und machen Sie sich mit den Hinweisen/Beispielen in den Blöcken 2) - 4) vertraut.\n",
    "Sollte sich die Datenbank nicht im gleichen Ordner befinden wie dieses Jupyter Notebook, ändern Sie *pathToBase* entsprechend.\n",
    "<br>\n",
    "2. Vervollständigen und führen Sie den der entsprechenden Aufgabe zugehörigen Block aus.\n",
    "<br>\n",
    "\n",
    "<span style=\"font-size:0.8em;\">*\\[Using the database:<br>\n",
    "1 Execute block 1) -Initialization- and familiarize yourself with the instructions/examples in blocks 2) - 4).\n",
    "If the database is not in the same folder as this Jupyter notebook, change *pathToBase* accordingly.\n",
    "<br>\n",
    "2 Complete and execute the block associated with the corresponding task.\\]*\n",
    "</span>\n"
   ]
  },
  {
   "cell_type": "markdown",
   "metadata": {},
   "source": [
    "### 1) Initialisierung"
   ]
  },
  {
   "cell_type": "code",
   "execution_count": 14,
   "metadata": {},
   "outputs": [],
   "source": [
    "import sqlite3\n",
    "\n",
    "pathToBase = \"terraBase.db\"\n",
    "conn = sqlite3.connect(pathToBase)\n",
    "cur = conn.cursor()\n",
    "\n",
    "\n",
    "def executeQueryAndPrintResults(query):\n",
    "    cur.execute(query)\n",
    "    results = cur.fetchall()\n",
    "    print(f\"--> {len(results)} rows\")\n",
    "    for res in results:\n",
    "        print(res)\n",
    "    return"
   ]
  },
  {
   "cell_type": "markdown",
   "metadata": {},
   "source": [
    "### 2) Ausgabe der Namen aller Relationen\n",
    "Folgende Query gibt als Resultat die Namen aller Tabellen der Datenbank aus:\n",
    "<br>\n",
    "<span style=\"font-size:0.8em;\">\\[*The following query returns the names of all tables in the database:*\\]</span> "
   ]
  },
  {
   "cell_type": "code",
   "execution_count": 4,
   "metadata": {},
   "outputs": [
    {
     "name": "stdout",
     "output_type": "stream",
     "text": [
      "--> 25 rows\n",
      "('berg',)\n",
      "('ebene',)\n",
      "('fluss',)\n",
      "('geht_ueber_in',)\n",
      "('geo_berg',)\n",
      "('geo_ebene',)\n",
      "('geo_fluss',)\n",
      "('geo_insel',)\n",
      "('geo_meer',)\n",
      "('geo_see',)\n",
      "('geo_wueste',)\n",
      "('hat_sitz_in',)\n",
      "('insel',)\n",
      "('ist_benachbart_zu',)\n",
      "('ist_mitglied_von',)\n",
      "('kontinent',)\n",
      "('land',)\n",
      "('landteil',)\n",
      "('liegt_an',)\n",
      "('meer',)\n",
      "('organisation',)\n",
      "('see',)\n",
      "('stadt',)\n",
      "('umfasst',)\n",
      "('wueste',)\n"
     ]
    }
   ],
   "source": [
    "query = \"SELECT name FROM sqlite_master WHERE type='table';\"\n",
    "executeQueryAndPrintResults(query)"
   ]
  },
  {
   "cell_type": "markdown",
   "metadata": {},
   "source": [
    "### 3) Ausgabe der Attribute einer Relation\n",
    "Folgendes Codesnippet gibt die Namen aller Attribute der Tabelle 'Land' an.\n",
    "<br>\n",
    "<span style=\"font-size:0.8em;\">\\[*The following code snippet specifies the names of all attributes of the 'Land' table.*\\]</span> "
   ]
  },
  {
   "cell_type": "code",
   "execution_count": 12,
   "metadata": {},
   "outputs": [
    {
     "name": "stdout",
     "output_type": "stream",
     "text": [
      "['l_id', 'l_name', 'einwohner', 'flaeche', 'hauptstadt', 'lt_id']\n"
     ]
    }
   ],
   "source": [
    "cursor = cur.execute(\"SELECT * from Land\")\n",
    "names = list(map(lambda x: x[0], cursor.description))\n",
    "print(names)"
   ]
  },
  {
   "cell_type": "markdown",
   "metadata": {},
   "source": [
    "### 4) Beispiel für Query\n",
    "Die Query gibt alle Städtenamen von Städten in Deutschland aus:<br>\n",
    "<span style=\"font-size:0.8em;\">\\[*Example: The query returns all city names of cities in Germany:*\\]</span> "
   ]
  },
  {
   "cell_type": "code",
   "execution_count": 5,
   "metadata": {},
   "outputs": [
    {
     "name": "stdout",
     "output_type": "stream",
     "text": [
      "--> 114 rows\n",
      "('Aachen',)\n",
      "('Aschaffenburg',)\n",
      "('Augsburg',)\n",
      "('Bad_Hersfeld',)\n",
      "('Bad_Toelz',)\n",
      "('Bautzen',)\n",
      "('Berlin',)\n",
      "('Bernburg',)\n",
      "('Bochum',)\n",
      "('Bonn',)\n",
      "('Brandenburg',)\n",
      "('Bremen',)\n",
      "('Bremerhafen',)\n",
      "('Celle',)\n",
      "('Chemnitz',)\n",
      "('Cottbus',)\n",
      "('Deggendorf',)\n",
      "('Dessau',)\n",
      "('Dillingen',)\n",
      "('Donauwoerth',)\n",
      "('Dortmund',)\n",
      "('Dresden',)\n",
      "('Duesseldorf',)\n",
      "('Duisburg',)\n",
      "('Eilenburg',)\n",
      "('Emden',)\n",
      "('Emsdetten',)\n",
      "('Erfurt',)\n",
      "('Essen',)\n",
      "('Flensburg',)\n",
      "('Forst',)\n",
      "('Frankfurt/M',)\n",
      "('Frankfurt/O',)\n",
      "('Friedrichshafen',)\n",
      "('Fuerstenwalde',)\n",
      "('Fuessen',)\n",
      "('Fulda',)\n",
      "('Goerlitz',)\n",
      "('Goettingen',)\n",
      "('Grimma',)\n",
      "('Halle',)\n",
      "('Hamburg',)\n",
      "('Hameln',)\n",
      "('Hannover',)\n",
      "('Heilbronn',)\n",
      "('Hoexter',)\n",
      "('Ingolstadt',)\n",
      "('Jena',)\n",
      "('Karlsruhe',)\n",
      "('Kassel',)\n",
      "('Kempten',)\n",
      "('Kiel',)\n",
      "('Koblenz',)\n",
      "('Koeln',)\n",
      "('Konstanz',)\n",
      "('Konz',)\n",
      "('Landsberg',)\n",
      "('Landshut',)\n",
      "('Leipzig',)\n",
      "('Leverkusen',)\n",
      "('Lindau',)\n",
      "('Lingen',)\n",
      "('Ludwigshafen',)\n",
      "('Lutherstadt_Wittenberg',)\n",
      "('Magdeburg',)\n",
      "('Mainz',)\n",
      "('Mannheim',)\n",
      "('Meiningen',)\n",
      "('Meissen',)\n",
      "('Meppen',)\n",
      "('Merseburg',)\n",
      "('Minden',)\n",
      "('Muehldorf',)\n",
      "('Muenchen',)\n",
      "('Muenster',)\n",
      "('Neubrandenburg',)\n",
      "('Neuburg',)\n",
      "('Nienburg',)\n",
      "('Nuernberg',)\n",
      "('Passau',)\n",
      "('Potsdam',)\n",
      "('Radebeul',)\n",
      "('Rathenow',)\n",
      "('Regensburg',)\n",
      "('Rheine',)\n",
      "('Riedlingen',)\n",
      "('Riesa',)\n",
      "('Rosenheim',)\n",
      "('Rostock',)\n",
      "('Saarbruecken',)\n",
      "('Saarlouis',)\n",
      "('Schwedt',)\n",
      "('Schweinfurt',)\n",
      "('Schwerin',)\n",
      "('Sigmaringen',)\n",
      "('Starnberg',)\n",
      "('Stralsund',)\n",
      "('Straubing',)\n",
      "('Stuttgart',)\n",
      "('Torgau',)\n",
      "('Trier',)\n",
      "('Tuebingen',)\n",
      "('Ulm',)\n",
      "('Voelklingen',)\n",
      "('Waldshut_Tiengen',)\n",
      "('Waren',)\n",
      "('Warendorf',)\n",
      "('Weisenfels',)\n",
      "('Wiesbaden',)\n",
      "('Wilhelmshaven',)\n",
      "('Worms',)\n",
      "('Wuerzburg',)\n",
      "('Wurzen',)\n",
      "('Zittau',)\n"
     ]
    }
   ],
   "source": [
    "query = \"SELECT st_name FROM stadt WHERE l_id ='D';\"\n",
    "executeQueryAndPrintResults(query)"
   ]
  },
  {
   "cell_type": "markdown",
   "metadata": {},
   "source": [
    "## Aufgabe 1: Anfragen an \"Terra\" <span style=\"float:right\"> (Medium: 20, Large: 34 Punkte)</span>\n",
    "Vervollständigen Sie für jede Teilaufgabe die Query und führen Sie den entsprechenden Block aus. <br>\n",
    "\n",
    "Im Moodle-Kurs finden Sie ein vereinfachtes (unvollständiges) ER-Modell. Im Allgemeinen können Sie davon ausgehen, dass `l_id` für die Relation `land`, `(lt_id, l_id)` für `landteil`, `abkuerzung` für Organisation, `(st_name, lt_id, l_id)` für `stadt`, und das entsprechende Name-Attribut in `see`, `meer`, `insel`, usw. als Schlüssel dienen (und somit als Fremdschlüssel in anderen Relationen benutzt werden).\n",
    "<br>\n",
    "<span style=\"font-size:0.8em;\">\\[*In each subtask, complete the query and execute the block. In the Moodle course you will find a simplified (incomplete) ER model. In general, you can assume that the following attribute(s) serve as a key for the respective relation, and are correspondingly used as foreign keys in other relations: l_id for land, (lt_id, l_id) for landteil, abkuerzung for organisation, (st_name, lt_id, l_id) for stadt, and the respective name attribute in see, meer, insel, etc.*\\]</span>"
   ]
  },
  {
   "cell_type": "markdown",
   "metadata": {},
   "source": [
    "1.1) Geben Sie den Namen und die Koordinaten (Länge und Breite) aller Städte in Brasilien ('BR') an, die oberhalb des Äquators (breite >= 0) liegen. **(1 Punkt)**\n",
    "<br>\n",
    "<span style=\"font-size:0.8em;\">\\[*Output the name and coordinates (laenge and breite) of all cities in Brazil ('BR') that lie above the equator (breite >= 0).*\\]</span> "
   ]
  },
  {
   "cell_type": "code",
   "execution_count": 6,
   "metadata": {
    "scrolled": true
   },
   "outputs": [
    {
     "name": "stdout",
     "output_type": "stream",
     "text": [
      "--> 2 rows\n",
      "('Boa_Vista', -604.0, 25.0)\n",
      "('Macapa', -520.0, 0.5)\n"
     ]
    }
   ],
   "source": [
    "query = \"SELECT st_name, laenge, breite FROM stadt WHERE l_id='BR' AND breite>=0 \"\n",
    "executeQueryAndPrintResults(query)"
   ]
  },
  {
   "cell_type": "markdown",
   "metadata": {},
   "source": [
    "1.2) Ermitteln Sie von jedem Landesteil in den USA ('USA') die Städte, die darin liegen. Geben Sie die Namen der Städte zusammen mit dem Namen des jeweiligen Landesteils aus. <b> (1 Punkt)</b>\n",
    "<br>\n",
    "<span style=\"font-size:0.8em;\">\\[*For each region (landteil) of the USA ('USA'), determine the cities that are located within that region. Return the names of the cities together with the name of the respective region (landteil).*\\]</span> "
   ]
  },
  {
   "cell_type": "code",
   "execution_count": 11,
   "metadata": {},
   "outputs": [
    {
     "name": "stdout",
     "output_type": "stream",
     "text": [
      "--> 68 rows\n",
      "('Albany', 'NY')\n",
      "('Annapolis', 'MD')\n",
      "('Atlanta', 'GA')\n",
      "('Augusta', 'ME')\n",
      "('Austin', 'TX')\n",
      "('Baltimore', 'MD')\n",
      "('Baton_Rouge', 'LA')\n",
      "('Bismarck', 'ND')\n",
      "('Boise', 'ID')\n",
      "('Boston', 'MA')\n",
      "('Carson_City', 'NV')\n",
      "('Charleston', 'WV')\n",
      "('Cheyenne', 'WY')\n",
      "('Chicago', 'IL')\n",
      "('Columbia', 'SC')\n",
      "('Columbus', 'OH')\n",
      "('Concord', 'NH')\n",
      "('Dallas', 'TX')\n",
      "('Denver', 'CO')\n",
      "('Des_Moines', 'IA')\n",
      "('Detroit', 'MI')\n",
      "('Dover', 'DE')\n",
      "('Fort_Worth', 'TX')\n",
      "('Frankfort', 'KY')\n",
      "('Harrisburg', 'PA')\n",
      "('Hartford', 'CT')\n",
      "('Helena', 'MT')\n",
      "('Hendersonville', 'NC')\n",
      "('Honolulu', 'HI')\n",
      "('Indianapolis', 'IN')\n",
      "('Jackson', 'MS')\n",
      "('Jefferson_City', 'MO')\n",
      "('Juneau', 'AK')\n",
      "('Kansas_City', 'MO')\n",
      "('Lansing', 'MI')\n",
      "('Las_Vegas', 'NV')\n",
      "('Lincoln', 'NE')\n",
      "('Little_Rock', 'AR')\n",
      "('Los_Angeles', 'CA')\n",
      "('Madison', 'WI')\n",
      "('Miami', 'FL')\n",
      "('Montgomery', 'AL')\n",
      "('Montpelier', 'VT')\n",
      "('Nashville', 'TN')\n",
      "('New_York', 'NY')\n",
      "('Oklahoma_City', 'OK')\n",
      "('Olympia', 'WA')\n",
      "('Phoenix', 'AZ')\n",
      "('Pierre', 'SD')\n",
      "('Providence', 'RI')\n",
      "('Raleigh', 'NC')\n",
      "('Rapid_City', 'SD')\n",
      "('Richmond', 'VA')\n",
      "('Sacramento', 'CA')\n",
      "('Salem', 'OR')\n",
      "('Salt_Lake_City', 'UT')\n",
      "('Santa_Fe', 'NM')\n",
      "('San_Antonio', 'TX')\n",
      "('San_Diego', 'CA')\n",
      "('San_Francisco', 'CA')\n",
      "('Springfield', 'IL')\n",
      "('St._Louis', 'MO')\n",
      "('St._Paul', 'MN')\n",
      "('Tallahassee', 'FL')\n",
      "('Topeka', 'KS')\n",
      "('Trenton', 'NJ')\n",
      "('Washington', 'DC')\n",
      "('Williamsburg', 'VA')\n"
     ]
    }
   ],
   "source": [
    "query = \"SELECT st_name, lt_id FROM stadt WHERE l_id='USA'\"\n",
    "executeQueryAndPrintResults(query)"
   ]
  },
  {
   "cell_type": "markdown",
   "metadata": {},
   "source": [
    "1.3) Bestimmen Sie die Landfläche der Erde. **Hinweis**: Benutzen Sie dafür die Tabelle kontinent. <b> (1 Punkt) </b>\n",
    "<br>\n",
    "<span style=\"font-size:0.8em;\">\\[*Determine the land area of the earth. Note: Use the table kontinent for that.*\\]</span> "
   ]
  },
  {
   "cell_type": "code",
   "execution_count": 8,
   "metadata": {},
   "outputs": [
    {
     "name": "stdout",
     "output_type": "stream",
     "text": [
      "--> 5 rows\n",
      "('Afrika',)\n",
      "('Amerika',)\n",
      "('Asien',)\n",
      "('Australien',)\n",
      "('Europa',)\n"
     ]
    }
   ],
   "source": [
    "query = \"SELECT k_name FROM Kontinent\"\n",
    "executeQueryAndPrintResults(query)"
   ]
  },
  {
   "cell_type": "markdown",
   "metadata": {},
   "source": [
    "1.4) Geben Sie die Gesamtzahl aller Gewässer (Flüsse, Seen, Meere) aus. <b> (2 Punkte)</b> \n",
    "<br>\n",
    "<span style=\"font-size:0.8em;\">\\[*Determine the total number of all bodies of water (rivers, lakes, seas).*\\]</span> "
   ]
  },
  {
   "cell_type": "code",
   "execution_count": 9,
   "metadata": {},
   "outputs": [
    {
     "name": "stdout",
     "output_type": "stream",
     "text": [
      "--> 1 rows\n",
      "(259,)\n"
     ]
    }
   ],
   "source": [
    "query = \"SELECT (SELECT COUNT(*) FROM Fluss) +(SELECT COUNT(*) FROM See) +(SELECT COUNT(*) FROM Meer) AS Gesamtzahl_Gewaesser;\"\n",
    "executeQueryAndPrintResults(query)"
   ]
  },
  {
   "cell_type": "markdown",
   "metadata": {},
   "source": [
    "1.5) Ermitteln Sie die IDs der Länder, die in mehr als 10 Organisationen Mitglied sind. **Hinweis:** Benutzen Sie nur die Tabelle ist_mitglied_von. <b> (2 Punkte)</b> \n",
    "<br>\n",
    "<span style=\"font-size:0.8em;\">\\[*Determine the IDs of the countries that are members of more than 10 organizations. Note: Only use the table ist_mitglied_von.*\\]</span> "
   ]
  },
  {
   "cell_type": "code",
   "execution_count": 12,
   "metadata": {},
   "outputs": [
    {
     "name": "stdout",
     "output_type": "stream",
     "text": [
      "--> 5 rows\n",
      "('AS',)\n",
      "('D',)\n",
      "('F',)\n",
      "('J',)\n",
      "('NZ',)\n"
     ]
    }
   ],
   "source": [
    "query = \"SELECT l_id FROM ist_mitglied_von GROUP BY l_id HAVING COUNT(*) > 10\"\n",
    "executeQueryAndPrintResults(query)"
   ]
  },
  {
   "cell_type": "markdown",
   "metadata": {},
   "source": [
    "1.6) Bestimmen Sie den Namen und die Tiefe der Golfe, die mindestens so tief sind wie die durchschnittliche Berghöhe. Ein Golf soll in dem Fall ein Meer sein, das \"Golf\" im Namen beinhaltet. <b> (2 Punkte) </b> \n",
    "<br>\n",
    "<span style=\"font-size:0.8em;\">\\[*Determine the name and depth of the gulfs that are at least as deep as the average mountain height. In this case, a gulf should be a sea that contains “Golf” in its name.*\\]</span> "
   ]
  },
  {
   "cell_type": "code",
   "execution_count": null,
   "metadata": {},
   "outputs": [],
   "source": [
    "query = \"\"\n",
    "executeQueryAndPrintResults(query)"
   ]
  },
  {
   "cell_type": "markdown",
   "metadata": {},
   "source": [
    "1.7) Bestimmen Sie die Namen der Länder in Afrika, die zu keinem anderen Land benachbart sind. **Hinweis**: Benutzen Sie dafür die Tabellen umfasst, land und ist_benachbart_zu, und beachten Sie, dass ist_benachbart_zu nicht bi-direktional ist. <b> (3 Punkte) </b> \n",
    "<br>\n",
    "<span style=\"font-size:0.8em;\">\\[*Determine the names of the countries in Africa that do not have any neighboring countries. Note: Use the tables umfasst, land and ist_benachbart_zu, and note that ist_benachbart_zu is not bi-directional.*\\]</span>\n"
   ]
  },
  {
   "cell_type": "code",
   "execution_count": null,
   "metadata": {},
   "outputs": [],
   "source": [
    "query = \"\"\n",
    "executeQueryAndPrintResults(query)"
   ]
  },
  {
   "cell_type": "markdown",
   "metadata": {},
   "source": [
    "1.8) Ein Land, in dem mehr als 10 Prozent der Bevölkerung in Großstädten lebt, soll als stark urbanisiert gelten. Als Großstädte werden Städte mit mehr als 500000 EinwohnerInnen betrachtet. Welche  Länder, deren Landanteil zu 100 Prozent in Asien liegt, gelten demzufolge als stark urbanisiert? Geben Sie die jeweiligen Ländernamen aus. (Eine einzige Anfrage!) <b> (4 Punkte) </b>\n",
    "<br>\n",
    "<span style=\"font-size:0.8em;\">\\[*A country in which more than 10 percent of the population lives in large cities is considered to be highly urbanized. Cities with more than 500,000 inhabitants are considered large cities. Which countries with 100 percent of their land in Asia are therefore considered to be highly urbanized? Output the names of the countries. (One single query!)*\\]</span>"
   ]
  },
  {
   "cell_type": "code",
   "execution_count": null,
   "metadata": {},
   "outputs": [],
   "source": [
    "query = \"\"\n",
    "executeQueryAndPrintResults(query)"
   ]
  },
  {
   "cell_type": "markdown",
   "metadata": {},
   "source": [
    "1.9) Ermitteln Sie alle Paare von Inseln, die zur gleichen Inselgruppe aber zu unterschiedlichen Ländern gehören. Geben Sie die Namen der Inseln, den Namen der Inselgruppe, sowie die zugehörigen Ländernamen aus. Geben Sie jedes Paar von Inseln nur einmal aus. Schließen Sie außerdem Inseln aus, die einen leeren Eintrag (`NULL` oder einen leeren String `''`) in Inselgruppe haben. <b>  (4 Punkte)</b>\n",
    "<br>\n",
    "<span style=\"font-size:0.8em;\">\\[*Determine all pairs of islands that belong to the same island group (inselgruppe) but to different countries. Determine the names of the islands, the name of the island group and the corresponding country names. Return each pair of islands only once. Also exclude islands that have an empty entry (NULL or an empty string '') in inselgruppe.*\\]</span>"
   ]
  },
  {
   "cell_type": "code",
   "execution_count": null,
   "metadata": {},
   "outputs": [],
   "source": [
    "query = \"\"\n",
    "executeQueryAndPrintResults(query)"
   ]
  },
  {
   "cell_type": "markdown",
   "metadata": {},
   "source": [
    "1.10)(*) Ermitteln Sie alle Länder, die mindestens einen Berg, eine Ebene, oder eine Wüste haben. Geben Sie die ID und die Namen der entsprechenden Länder aus. **Hinweis:** Für diese Aufgabe sollen Sie ausnahmsweise berücksichtigen, dass manche Länder-IDs in den \"geo_\"-Tabellen keinen entsprechenden Eintrag in der Tabelle land haben. Geben Sie in dem Fall die l_id dennoch aus, wobei der Name des Landes dann `NULL` sein soll. <b> (3 Punkte) </b> \n",
    "<br>\n",
    "<span style=\"font-size:0.8em;\">\\[*Determine all countries that have at least one mountain (berg), one plain (ebene) or one desert (wueste). Return the ID and the names of the corresponding countries. Note: For this task, you should take into account that some country IDs (l_id) in the “geo_” tables do not have a corresponding entry in the table land. In this case, output the l_id anyway, whereby the name of the country should then be NULL.*\\]</span>"
   ]
  },
  {
   "cell_type": "code",
   "execution_count": null,
   "metadata": {},
   "outputs": [],
   "source": [
    "query = \"\"\n",
    "executeQueryAndPrintResults(query)"
   ]
  },
  {
   "cell_type": "markdown",
   "metadata": {},
   "source": [
    "1.11) (*) Geben Sie den Namen der Organisation aus, deren Mitgliedsländer in Summe die wenigsten Einwohner haben, zusammen mit der Summe der Einwohner der Mitgliedsländer. **Hinweis**: Mit \"LIMIT 1\" können Sie die Ausgabe auf ein Tupel begrenzen.\n",
    "<b> (3 Punkte) </b> \n",
    "<br>\n",
    "<span style=\"font-size:0.8em;\">\\[*Enter the name of the organization whose member countries have the fewest inhabitants in total, along with the sum of the inhabitants of the member countries.*\\]</span>"
   ]
  },
  {
   "cell_type": "code",
   "execution_count": null,
   "metadata": {},
   "outputs": [],
   "source": [
    "query = \"\"\n",
    "executeQueryAndPrintResults(query)"
   ]
  },
  {
   "cell_type": "markdown",
   "metadata": {},
   "source": [
    "1.12) (*) Geben Sie die Länge des gesamten amerikanischen Flusssystems aus. <b> (4 Punkte) </b> \n",
    "<br>\n",
    "<span style=\"font-size:0.8em;\">\\[*Determine the length of the entire American river system.*\\]</span>"
   ]
  },
  {
   "cell_type": "code",
   "execution_count": null,
   "metadata": {},
   "outputs": [],
   "source": [
    "query = \"\"\n",
    "executeQueryAndPrintResults(query)"
   ]
  },
  {
   "cell_type": "markdown",
   "metadata": {},
   "source": [
    "1.13) (*) Ermitteln Sie für jedes Land (in dem mindestens ein Berg liegt) die Berge, die höher als die durchschnittliche Berghöhe in dem entsprechenden Land sind. Geben Sie den Namen sowie die Höhe der entsprechenden Berge jeweils zusammen mit dem Namen des Landes, in dem sie liegen, aus. **Hinweis**: Manche Berge liegen in mehreren Landesteilen eines Landes und sollen dementsprechend nicht mehrmals berücksichtigt werden. <b> (4 Punkte) </b> \n",
    "<br>\n",
    "<span style=\"font-size:0.8em;\">\\[*For each country (which has at least one mountain), determine the mountains that are higher than the average mountain height in the respective country. Return the name and the height of the corresponding mountains together with the name of the country in which they are located. Note: Some mountains are located in several parts of a country and should therefore not be included more than once.*\\]</span>\n"
   ]
  },
  {
   "cell_type": "code",
   "execution_count": null,
   "metadata": {},
   "outputs": [],
   "source": [
    "query = \"\"\n",
    "executeQueryAndPrintResults(query)"
   ]
  },
  {
   "cell_type": "markdown",
   "metadata": {},
   "source": [
    "## Aufgabe 2: Integritätsbedingungen<span style=\"float:right\"> (Medium: 14, Large: 18 Punkte)</span>\n",
    "\n",
    "Gegeben sei ein (vereinfachtes) Datenbankschema mit folgenden Tabellen:\n",
    "<br>\n",
    "<span style=\"font-size:0.8em;\">\\[*Given a (simplified) database schema with the following tables:*\\]</span>\n",
    "\n",
    "* **Fan** (name VARCHAR(100), address VARCHAR(255), status VARCHAR(25))\n",
    "\n",
    "* **Concert** (c_id INTEGER, band VARCHAR(100), venue VARCHAR(100), city VARCHAR(100), c_date DATE)\n",
    "\n",
    "* **Ticket** (concert_id INTEGER, fan_id VARCHAR(100), purchase_time DATETIME, quantity INTEGER)\n",
    "\n",
    "Dabei sei anzunehmen, dass `c_date` als 'YYYY-MM-DD' und `purchase_time` als 'YYYY-MM-DD HH:MM:SS' dargestellt werden. Die Funktionen `date('now')` bzw. `datetime('now')` können z.B. verwendet werden, um einen entsprechenden Zeitstempel zu erzeugen.\n",
    "<br>\n",
    "<span style=\"font-size:0.8em;\">\\[*We assume that c_date is represented in 'YYYY-MM-DD' format and purchase_time in 'YYYY-MM-DD HH:MM:SS' format. The functions date('now') or datetime('now'), respectively, may be used to generate corresponding timestamps.*\\]</span>\n"
   ]
  },
  {
   "cell_type": "code",
   "execution_count": 10,
   "metadata": {},
   "outputs": [
    {
     "name": "stdout",
     "output_type": "stream",
     "text": [
      "--> 0 rows\n"
     ]
    }
   ],
   "source": [
    "pathToBase = \"dummy.db\"\n",
    "conn = sqlite3.connect(pathToBase)\n",
    "cur = conn.cursor()\n",
    "executeQueryAndPrintResults(\"PRAGMA foreign_keys = ON;\")"
   ]
  },
  {
   "cell_type": "markdown",
   "metadata": {},
   "source": [
    "1.) Erstellen Sie die Tabelle `Fan`. Deklarieren Sie dabei `name` als Primärschlüssel, sowie die übrigen Attribute als `NOT NULL`. \n",
    "Deklarieren Sie `'Basic'` als Default-Wert für Status.  **(2.5 Punkte)**\n",
    "<br>\n",
    "<span style=\"font-size:0.8em;\">\\[*Create the table Fan. Declare name as the primary key and the other attributes as NOT NULL. Declare 'Basic' as the default value for status.*\\]</span> "
   ]
  },
  {
   "cell_type": "code",
   "execution_count": 16,
   "metadata": {},
   "outputs": [
    {
     "ename": "OperationalError",
     "evalue": "table Fan already exists",
     "output_type": "error",
     "traceback": [
      "\u001b[1;31m---------------------------------------------------------------------------\u001b[0m",
      "\u001b[1;31mOperationalError\u001b[0m                          Traceback (most recent call last)",
      "Cell \u001b[1;32mIn[16], line 2\u001b[0m\n\u001b[0;32m      1\u001b[0m query \u001b[38;5;241m=\u001b[39m \u001b[38;5;124m\"\u001b[39m\u001b[38;5;124mCREATE TABLE Fan(name VARCHAR(100) PRIMARY KEY ,adress VARCHAR(255) NOT NULL , status VARCHAR(25) NOT NULL DEFAULT \u001b[39m\u001b[38;5;124m'\u001b[39m\u001b[38;5;124mBasic\u001b[39m\u001b[38;5;124m'\u001b[39m\u001b[38;5;124m)\u001b[39m\u001b[38;5;124m\"\u001b[39m\n\u001b[1;32m----> 2\u001b[0m \u001b[43mexecuteQueryAndPrintResults\u001b[49m\u001b[43m(\u001b[49m\u001b[43mquery\u001b[49m\u001b[43m)\u001b[49m\n",
      "Cell \u001b[1;32mIn[14], line 9\u001b[0m, in \u001b[0;36mexecuteQueryAndPrintResults\u001b[1;34m(query)\u001b[0m\n\u001b[0;32m      8\u001b[0m \u001b[38;5;28;01mdef\u001b[39;00m \u001b[38;5;21mexecuteQueryAndPrintResults\u001b[39m(query):\n\u001b[1;32m----> 9\u001b[0m     \u001b[43mcur\u001b[49m\u001b[38;5;241;43m.\u001b[39;49m\u001b[43mexecute\u001b[49m\u001b[43m(\u001b[49m\u001b[43mquery\u001b[49m\u001b[43m)\u001b[49m\n\u001b[0;32m     10\u001b[0m     results \u001b[38;5;241m=\u001b[39m cur\u001b[38;5;241m.\u001b[39mfetchall()\n\u001b[0;32m     11\u001b[0m     \u001b[38;5;28mprint\u001b[39m(\u001b[38;5;124mf\u001b[39m\u001b[38;5;124m\"\u001b[39m\u001b[38;5;124m--> \u001b[39m\u001b[38;5;132;01m{\u001b[39;00m\u001b[38;5;28mlen\u001b[39m(results)\u001b[38;5;132;01m}\u001b[39;00m\u001b[38;5;124m rows\u001b[39m\u001b[38;5;124m\"\u001b[39m)\n",
      "\u001b[1;31mOperationalError\u001b[0m: table Fan already exists"
     ]
    }
   ],
   "source": [
    "query = \"CREATE TABLE Fan(name VARCHAR(100) PRIMARY KEY ,adress VARCHAR(255) NOT NULL , status VARCHAR(25) NOT NULL DEFAULT 'Basic')\"\n",
    "executeQueryAndPrintResults(query)"
   ]
  },
  {
   "cell_type": "markdown",
   "metadata": {},
   "source": [
    "2.) Fügen Sie ein Tupel in die Tabelle `Fan` ein. **(0.5 Punkte)**\n",
    "<br>\n",
    "<span style=\"font-size:0.8em;\">\\[*Insert a tuple into the table fan.*\\]</span>"
   ]
  },
  {
   "cell_type": "code",
   "execution_count": 17,
   "metadata": {},
   "outputs": [
    {
     "name": "stdout",
     "output_type": "stream",
     "text": [
      "--> 0 rows\n"
     ]
    }
   ],
   "source": [
    "query = \"INSERT INTO Fan (name, adress) VALUES ('Basel' , 'Maghar Village')\"\n",
    "executeQueryAndPrintResults(query)"
   ]
  },
  {
   "cell_type": "markdown",
   "metadata": {},
   "source": [
    "3.) Erstellen Sie die Tabelle `Concert`. Deklarieren Sie dabei `c_id` als Primärschlüssel und die übrigen Attribute als `NOT NULL`. Außerdem sollen `band` und `c_time` zusammen als weiterer Schlüsselkandidat deklariert werden, d.h. die Kombination aus `band` und `c_time` soll einzigartig sein. **(2.5 Punkte)**\n",
    "<br>\n",
    "<span style=\"font-size:0.8em;\">\\[*Create the table Concert. Declare c_id as the primary key and the other attributes as NOT NULL. In addition, band and c_time should be declared together as an additional key candidate, i.e. the combination of band and c_time should be unique.*\\]</span>"
   ]
  },
  {
   "cell_type": "code",
   "execution_count": 18,
   "metadata": {},
   "outputs": [
    {
     "name": "stdout",
     "output_type": "stream",
     "text": [
      "--> 0 rows\n"
     ]
    }
   ],
   "source": [
    "query = \"CREATE TABLE Concert(c_id INTEGER PRIMARY KEY, band VARCHAR(100) NOT NULL, venue VARCHAR(100) NOT NULL, city VARCHAR(100) NOT NULL, c_date DATE NOT NULL, UNIQUE(band, c_date))\"\n",
    "executeQueryAndPrintResults(query)"
   ]
  },
  {
   "cell_type": "markdown",
   "metadata": {},
   "source": [
    "4.) Fügen Sie ein Tupel in die Tabelle `Concert` ein. **(0.5 Punkte)**\n",
    "<br>\n",
    "<span style=\"font-size:0.8em;\">\\[*Insert a tuple into the table Concert.*\\]</span>"
   ]
  },
  {
   "cell_type": "code",
   "execution_count": 30,
   "metadata": {},
   "outputs": [
    {
     "name": "stdout",
     "output_type": "stream",
     "text": [
      "--> 0 rows\n"
     ]
    }
   ],
   "source": [
    "query = \"INSERT INTO Concert VALUES (1, 'AC/DC', 'Fridrischstrasse', 'Berlin', '2024-06-16') \"\n",
    "executeQueryAndPrintResults(query)"
   ]
  },
  {
   "cell_type": "markdown",
   "metadata": {},
   "source": [
    "5.) Erstellen Sie die Tabelle `Ticket`. Stellen Sie mittels Fremdschlüsseln sicher, dass es zu jedem Ticket ein Tupel in der `Fan` Relation sowie ein Tupel in der `Concert` Relation gibt. Deklarieren Sie `concert_id`, `fan_id` und `purchase_time` zusammen als Primärschlüssel. Die restlichen Attribute sollen `NOT NULL` sein. Stellen Sie außerdem sicher, dass die Anzahl (`quantity`) der Tickets pro Kauf zwischen 1 und 10 liegt. <b>(3 Punkte)</b>\n",
    "<br>\n",
    "<span style=\"font-size:0.8em;\">\\[*Create the Ticket table. Use foreign keys to ensure that there is a tuple in the Fan relation and a concert in the Concert relation for each ticket. Declare concert_id, fan_id and purchase_time together as the primary key. The remaining attributes should be NOT NULL. Also make sure that the quantity of tickets per purchase is between 1 and 10.*\\]</span>"
   ]
  },
  {
   "cell_type": "code",
   "execution_count": 19,
   "metadata": {},
   "outputs": [
    {
     "name": "stdout",
     "output_type": "stream",
     "text": [
      "--> 0 rows\n"
     ]
    }
   ],
   "source": [
    "query = \"CREATE TABLE Ticket(concert_id INTEGER, fan_id VARCHAR(100), purchase_time DATETIME, quantity INTEGER NOT NULL, PRIMARY KEY(concert_id,fan_id,purchase_time), CHECK(quantity >=1 AND quantity <= 10), FOREIGN KEY(fan_id) REFERENCES Fan(name), FOREIGN KEY(concert_id) REFERENCES Concert(c_id) ) \"\n",
    "executeQueryAndPrintResults(query)"
   ]
  },
  {
   "cell_type": "markdown",
   "metadata": {},
   "source": [
    "6.) Der Fan 'Benny Chaos' hat Hausverbot bei der Band 'The Relational Rebels'. Erstellen Sie einen Trigger, der sicherstellt, dass Benny Chaos keine Tickets dieser Band kaufen kann. <b>(4 Punkte)</b>\n",
    "<br>\n",
    "<span style=\"font-size:0.8em;\">\\[*The fan 'Benny Chaos' is banned from concerts of the band 'The Relational Rebels'. Create a trigger that ensures that Benny Chaos cannot buy tickets for this band.*\\]</span>"
   ]
  },
  {
   "cell_type": "code",
   "execution_count": 20,
   "metadata": {},
   "outputs": [
    {
     "ename": "OperationalError",
     "evalue": "near \"allowed\": syntax error",
     "output_type": "error",
     "traceback": [
      "\u001b[1;31m---------------------------------------------------------------------------\u001b[0m",
      "\u001b[1;31mOperationalError\u001b[0m                          Traceback (most recent call last)",
      "Cell \u001b[1;32mIn[20], line 2\u001b[0m\n\u001b[0;32m      1\u001b[0m query \u001b[38;5;241m=\u001b[39m \u001b[38;5;124m\"\u001b[39m\u001b[38;5;124mCREATE TRIGGER banned_from_buying BEFORE INSERT ON Ticket FOR EACH ROW WHEN NEW.fan_name = \u001b[39m\u001b[38;5;124m'\u001b[39m\u001b[38;5;124mBenny Chaos\u001b[39m\u001b[38;5;124m'\u001b[39m\u001b[38;5;124m AND NEW.concert_id IN (SELECT c_id FROM Concert WHERE band = \u001b[39m\u001b[38;5;124m'\u001b[39m\u001b[38;5;124mThe Relational Rebels\u001b[39m\u001b[38;5;124m'\u001b[39m\u001b[38;5;124m) BEGIN SELECT RAISE(ABORT, ‘Not allowed to buy a Ticket’); END;\u001b[39m\u001b[38;5;124m\"\u001b[39m\n\u001b[1;32m----> 2\u001b[0m \u001b[43mexecuteQueryAndPrintResults\u001b[49m\u001b[43m(\u001b[49m\u001b[43mquery\u001b[49m\u001b[43m)\u001b[49m\n",
      "Cell \u001b[1;32mIn[14], line 9\u001b[0m, in \u001b[0;36mexecuteQueryAndPrintResults\u001b[1;34m(query)\u001b[0m\n\u001b[0;32m      8\u001b[0m \u001b[38;5;28;01mdef\u001b[39;00m \u001b[38;5;21mexecuteQueryAndPrintResults\u001b[39m(query):\n\u001b[1;32m----> 9\u001b[0m     \u001b[43mcur\u001b[49m\u001b[38;5;241;43m.\u001b[39;49m\u001b[43mexecute\u001b[49m\u001b[43m(\u001b[49m\u001b[43mquery\u001b[49m\u001b[43m)\u001b[49m\n\u001b[0;32m     10\u001b[0m     results \u001b[38;5;241m=\u001b[39m cur\u001b[38;5;241m.\u001b[39mfetchall()\n\u001b[0;32m     11\u001b[0m     \u001b[38;5;28mprint\u001b[39m(\u001b[38;5;124mf\u001b[39m\u001b[38;5;124m\"\u001b[39m\u001b[38;5;124m--> \u001b[39m\u001b[38;5;132;01m{\u001b[39;00m\u001b[38;5;28mlen\u001b[39m(results)\u001b[38;5;132;01m}\u001b[39;00m\u001b[38;5;124m rows\u001b[39m\u001b[38;5;124m\"\u001b[39m)\n",
      "\u001b[1;31mOperationalError\u001b[0m: near \"allowed\": syntax error"
     ]
    }
   ],
   "source": [
    "query = \"CREATE TRIGGER banned_from_buying BEFORE INSERT ON Ticket FOR EACH ROW WHEN NEW.fan_name = 'Benny Chaos' AND NEW.concert_id IN (SELECT c_id FROM Concert WHERE band = 'The Relational Rebels') BEGIN SELECT RAISE(ABORT, ‘Not allowed to buy a Ticket’); END;\"\n",
    "executeQueryAndPrintResults(query)"
   ]
  },
  {
   "cell_type": "markdown",
   "metadata": {},
   "source": [
    "7.)(*) Erzeugen Sie einen Trigger, der den Status eines Fans nach dem Kauf von Tickets auf `'Premium'` setzt, wenn dieser damit ingesamt mehr als 20 Tickets gekauft hat. <b>(4 Punkte)</b>\n",
    "<br>\n",
    "<span style=\"font-size:0.8em;\">\\[*Create a trigger that sets the status of a fan to 'Premium' after the purchase of tickets if they have bought more than 20 tickets in total at that point.*\\]</span>"
   ]
  },
  {
   "cell_type": "code",
   "execution_count": null,
   "metadata": {},
   "outputs": [],
   "source": [
    "query = \"\"\n",
    "executeQueryAndPrintResults(query)"
   ]
  },
  {
   "cell_type": "markdown",
   "metadata": {},
   "source": [
    "8.) Löschen Sie alle von Ihnen erzeugten Objekte.  <b>(1 Punkt)</b>\n",
    "<br>\n",
    "<span style=\"font-size:0.8em;\">\\[*Delete all the objects you have created.*\\]</span>"
   ]
  },
  {
   "cell_type": "code",
   "execution_count": null,
   "metadata": {},
   "outputs": [],
   "source": [
    "query = \"\"\n",
    "executeQueryAndPrintResults(query)"
   ]
  },
  {
   "cell_type": "markdown",
   "metadata": {},
   "source": [
    "## Aufgabe 3: Domänenkalkül<span style=\"float:right\"> (Medium: -, MA: 8 Punkte)</span>\n",
    "Gegeben seien folgende Relationen:\n",
    "<br>\n",
    "<span style=\"font-size:0.8em;\">\\[*The following relations are given:*\\]</span>\n",
    "<br><br>\n",
    "<b>Kunde</b> (Name, Stadt, Konto) <br>\n",
    "<b>Angebot</b> (Warenbezeichnung, Lieferant, Preis) <br>\n",
    "<b>Bestellung</b> (Name, Warenbezeichnung, Bestellmenge, Lieferant) <br><br>\n",
    "Ferner sei eine Domänenkalkülanfrage unter Verwendung der Prädikatensymbole Kunde, Angebot und Bestellung gegeben. Die Symbole entsprechen dabei den gleichnamigen Relationen.\n",
    "<br>\n",
    "<span style=\"font-size:0.8em;\">\\[*Furthermore, a domain calculus query is given using the predicate symbols Kunde, Angebot and Bestellung. The symbols correspond to the relations of the same name.*\\]</span>\n",
    "<br><br>\n",
    "F = {Name, Stadt | <br>\n",
    "∃ Konto, Warenbezeichnung, Lieferant, Preis, Bestellmenge (Kunde(Name, Stadt, Konto) <br>\n",
    "∧ Angebot(Warenbezeichnung, Lieferant, Preis) <br>\n",
    "∧ Bestellung(Name, Warenbezeichnung, Bestellmenge, Lieferant) <br>\n",
    "∧ Preis ≥ 200 ∧ Lieferant = ’Müller’)} <br>\n",
    "______\n",
    "1.) Beschreiben Sie in einem Satz das Ergebnis dieser Anfrage. <b> (1 Punkte)</b>\n",
    "<br>\n",
    "<span style=\"font-size:0.8em;\">\\[*Describe the result of this query in one sentence.*\\]</span>"
   ]
  },
  {
   "cell_type": "markdown",
   "metadata": {},
   "source": [
    "Antwort: "
   ]
  },
  {
   "cell_type": "markdown",
   "metadata": {},
   "source": [
    "2.) Bestimmen Sie für die Well-Formed-Formula (WFF) der Anfrage die Menge der freien und gebundenen Variablen. <b> (2 Punkte) </b>\n",
    "<br>\n",
    "<span style=\"font-size:0.8em;\">\\[*Determine the set of free and bound variables for the well-formed formula (WFF) of the query.*\\]</span>"
   ]
  },
  {
   "cell_type": "markdown",
   "metadata": {},
   "source": [
    "Antwort:"
   ]
  },
  {
   "cell_type": "markdown",
   "metadata": {},
   "source": [
    "3.) (*) Ist die WFF der Anfrage sicher? Begründen Sie Ihre Antwort anhand der Definition der Sicherheit.<b> (3 Punkte) </b>\n",
    "<br>\n",
    "<span style=\"font-size:0.8em;\">\\[*Is the WFF of the request safe? Justify your answer based on the definition of safeness.*\\]</span>"
   ]
  },
  {
   "cell_type": "markdown",
   "metadata": {},
   "source": [
    "Antwort: "
   ]
  },
  {
   "cell_type": "markdown",
   "metadata": {},
   "source": [
    "4.) Geben Sie einen zu der Anfrage äquivalenten Ausdruck in relationaler Algebra an. <b> (2 Punkte) </b>\n",
    "<br>\n",
    "<span style=\"font-size:0.8em;\">\\[*Give an expression equivalent to the query in relational algebra.*\\]</span>"
   ]
  },
  {
   "cell_type": "markdown",
   "metadata": {},
   "source": [
    "Antwort: "
   ]
  }
 ],
 "metadata": {
  "kernelspec": {
   "display_name": "Python 3 (ipykernel)",
   "language": "python",
   "name": "python3"
  },
  "language_info": {
   "codemirror_mode": {
    "name": "ipython",
    "version": 3
   },
   "file_extension": ".py",
   "mimetype": "text/x-python",
   "name": "python",
   "nbconvert_exporter": "python",
   "pygments_lexer": "ipython3",
   "version": "3.12.4"
  }
 },
 "nbformat": 4,
 "nbformat_minor": 4
}
